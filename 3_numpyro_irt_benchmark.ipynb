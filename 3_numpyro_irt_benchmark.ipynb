{
  "cells": [
    {
      "cell_type": "markdown",
      "metadata": {
        "id": "9oLkjU5uBz2m"
      },
      "source": [
        "# Measure Sampling Time - Numpyro\n"
      ]
    },
    {
      "cell_type": "markdown",
      "metadata": {
        "id": "JmHAmPkrK8-d"
      },
      "source": [
        "# Select Data, IRT model, and Device\n"
      ]
    },
    {
      "cell_type": "code",
      "execution_count": 1,
      "metadata": {
        "id": "IFeSIrdfK9j2"
      },
      "outputs": [],
      "source": [
        "# 0 -> bone\n",
        "# 1 (others) -> brain\n",
        "\n",
        "DATA = 0 \n",
        "#DATA = 1\n",
        "\n"
      ]
    },
    {
      "cell_type": "code",
      "execution_count": 2,
      "metadata": {
        "id": "FZ_RJ6TZK9qb"
      },
      "outputs": [],
      "source": [
        "# 0 -> 1PL-IRT\n",
        "# 1 (others) -> 2PL-IRT \n",
        "\n",
        "MODEL = 0\n",
        "#MODEL = 1"
      ]
    },
    {
      "cell_type": "code",
      "execution_count": 3,
      "metadata": {
        "id": "NCnXfBIIK9xy"
      },
      "outputs": [],
      "source": [
        "# 0 -> CPU\n",
        "# 1 -> GPU\n",
        "# 2 -> GPU vectorized\n",
        "\n",
        "#DEVICE = 0\n",
        "DEVICE = 1\n",
        "\n",
        "###########################\n",
        "#DEVICE = 2 # do not work\n",
        "###########################"
      ]
    },
    {
      "cell_type": "code",
      "execution_count": 4,
      "metadata": {
        "id": "tybKQ1x2RetS"
      },
      "outputs": [],
      "source": [
        "num_chains = 2\n",
        "\n",
        "if DEVICE == 2:\n",
        "    chain_method = 'vectorized'\n",
        "else:\n",
        "    chain_method = 'parallel'"
      ]
    },
    {
      "cell_type": "markdown",
      "metadata": {
        "id": "flgZTZ8LLDou"
      },
      "source": [
        "# Prepare"
      ]
    },
    {
      "cell_type": "code",
      "execution_count": 5,
      "metadata": {
        "id": "y6VDP-5eRyuR"
      },
      "outputs": [],
      "source": [
        "#! cat /proc/cpuinfo"
      ]
    },
    {
      "cell_type": "code",
      "execution_count": 6,
      "metadata": {
        "id": "pz2ZS2gBBz2s",
        "colab": {
          "base_uri": "https://localhost:8080/"
        },
        "outputId": "de868837-a87c-46f6-a245-d85cff629efe"
      },
      "outputs": [
        {
          "output_type": "stream",
          "name": "stdout",
          "text": [
            "\u001b[2K     \u001b[90m━━━━━━━━━━━━━━━━━━━━━━━━━━━━━━━━━━━━━━━\u001b[0m \u001b[32m292.7/292.7 KB\u001b[0m \u001b[31m5.9 MB/s\u001b[0m eta \u001b[36m0:00:00\u001b[0m\n",
            "\u001b[2K     \u001b[90m━━━━━━━━━━━━━━━━━━━━━━━━━━━━━━━━━━━━━━━━\u001b[0m \u001b[32m1.6/1.6 MB\u001b[0m \u001b[31m41.9 MB/s\u001b[0m eta \u001b[36m0:00:00\u001b[0m\n",
            "\u001b[2K     \u001b[90m━━━━━━━━━━━━━━━━━━━━━━━━━━━━━━━━━━━━━━━━\u001b[0m \u001b[32m5.2/5.2 MB\u001b[0m \u001b[31m63.4 MB/s\u001b[0m eta \u001b[36m0:00:00\u001b[0m\n",
            "\u001b[2K     \u001b[90m━━━━━━━━━━━━━━━━━━━━━━━━━━━━━━━━━━━━━━━━\u001b[0m \u001b[32m1.3/1.3 MB\u001b[0m \u001b[31m33.2 MB/s\u001b[0m eta \u001b[36m0:00:00\u001b[0m\n",
            "\u001b[?25h\u001b[31mERROR: pip's dependency resolver does not currently take into account all the packages that are installed. This behaviour is the source of the following dependency conflicts.\n",
            "pymc 5.1.2 requires arviz>=0.13.0, but you have arviz 0.12.1 which is incompatible.\u001b[0m\u001b[31m\n",
            "\u001b[0m"
          ]
        }
      ],
      "source": [
        "#! pip install -q \"jax[cuda11_cudnn805]\"==0.3.25 -f https://storage.googleapis.com/jax-releases/jax_cuda_releases.html\n",
        "! pip install -q numpyro==0.10.1 arviz==0.12.1"
      ]
    },
    {
      "cell_type": "code",
      "execution_count": 7,
      "metadata": {
        "id": "K6MbPew0gKQ_"
      },
      "outputs": [],
      "source": [
        "import numpy as np\n",
        "import pandas as pd\n",
        "import datetime as dt\n",
        "import time\n",
        "\n",
        "import matplotlib.pyplot as plt\n",
        "import seaborn as sns"
      ]
    },
    {
      "cell_type": "code",
      "execution_count": 8,
      "metadata": {
        "id": "oeFM_vbwBz2v"
      },
      "outputs": [],
      "source": [
        "import numpyro\n",
        "import numpyro.distributions as dist\n",
        "\n",
        "import jax\n",
        "import arviz as az\n",
        "import jax.numpy as jnp"
      ]
    },
    {
      "cell_type": "code",
      "execution_count": 9,
      "metadata": {
        "colab": {
          "base_uri": "https://localhost:8080/"
        },
        "id": "MmWQ70bDBz2w",
        "outputId": "ebdfe01a-ceb8-4c98-e3d0-489ecc2a7daf"
      },
      "outputs": [
        {
          "output_type": "stream",
          "name": "stdout",
          "text": [
            "number of GPU 1\n",
            "Fri Mar 24 01:38:22 2023       \n",
            "+-----------------------------------------------------------------------------+\n",
            "| NVIDIA-SMI 525.85.12    Driver Version: 525.85.12    CUDA Version: 12.0     |\n",
            "|-------------------------------+----------------------+----------------------+\n",
            "| GPU  Name        Persistence-M| Bus-Id        Disp.A | Volatile Uncorr. ECC |\n",
            "| Fan  Temp  Perf  Pwr:Usage/Cap|         Memory-Usage | GPU-Util  Compute M. |\n",
            "|                               |                      |               MIG M. |\n",
            "|===============================+======================+======================|\n",
            "|   0  Tesla T4            Off  | 00000000:00:04.0 Off |                    0 |\n",
            "| N/A   66C    P0    29W /  70W |    105MiB / 15360MiB |      4%      Default |\n",
            "|                               |                      |                  N/A |\n",
            "+-------------------------------+----------------------+----------------------+\n",
            "                                                                               \n",
            "+-----------------------------------------------------------------------------+\n",
            "| Processes:                                                                  |\n",
            "|  GPU   GI   CI        PID   Type   Process name                  GPU Memory |\n",
            "|        ID   ID                                                   Usage      |\n",
            "|=============================================================================|\n",
            "+-----------------------------------------------------------------------------+\n"
          ]
        }
      ],
      "source": [
        "if DEVICE == 0:\n",
        "    numpyro.set_platform('cpu')\n",
        "    numpyro.set_host_device_count(num_chains)\n",
        "else:\n",
        "    numpyro.set_platform('gpu')\n",
        "    n = jax.device_count()\n",
        "    print(\"number of GPU\", n)\n",
        "    if n < 1:\n",
        "        raise Exception(\"no GPU\")\n",
        "    else:\n",
        "        ! nvidia-smi"
      ]
    },
    {
      "cell_type": "markdown",
      "metadata": {
        "id": "Bkfxq1wlBz2w"
      },
      "source": [
        "## Import Data"
      ]
    },
    {
      "cell_type": "code",
      "execution_count": 10,
      "metadata": {
        "colab": {
          "base_uri": "https://localhost:8080/"
        },
        "id": "NrwYezuhB4H-",
        "outputId": "38cbfbf5-4e1d-4ed3-eb92-2422dfc6da98"
      },
      "outputs": [
        {
          "output_type": "stream",
          "name": "stdout",
          "text": [
            "--2023-03-24 01:38:22--  https://filedn.com/lpAczQGgeBjkX6l7SpI5JJy/__ws/stan_irt_nrm_rad/idata_ppc_for_data0_model0.nc\n",
            "Resolving filedn.com (filedn.com)... 74.120.9.25\n",
            "Connecting to filedn.com (filedn.com)|74.120.9.25|:443... connected.\n",
            "HTTP request sent, awaiting response... 200 OK\n",
            "Length: 28875064 (28M) [application/x-netcdf]\n",
            "Saving to: ‘idata_ppc.nc’\n",
            "\n",
            "idata_ppc.nc        100%[===================>]  27.54M  5.19MB/s    in 14s     \n",
            "\n",
            "2023-03-24 01:38:37 (1.97 MB/s) - ‘idata_ppc.nc’ saved [28875064/28875064]\n",
            "\n"
          ]
        }
      ],
      "source": [
        "fff = \"idata_ppc_for_data%s_model%s.nc\" % (DATA, MODEL)\n",
        "\n",
        "! wget https://filedn.com/lpAczQGgeBjkX6l7SpI5JJy/__ws/stan_irt_nrm_rad/{fff} -O idata_ppc.nc"
      ]
    },
    {
      "cell_type": "code",
      "execution_count": 11,
      "metadata": {
        "id": "JGZNAUE7Bz2x"
      },
      "outputs": [],
      "source": [
        "idata_ppc = az.from_netcdf('idata_ppc.nc')"
      ]
    },
    {
      "cell_type": "code",
      "execution_count": 12,
      "metadata": {
        "id": "cCPopivfBz2x",
        "colab": {
          "base_uri": "https://localhost:8080/"
        },
        "outputId": "2e2f5f44-de2e-4483-d3c5-6d697f477555"
      },
      "outputs": [
        {
          "output_type": "execute_result",
          "data": {
            "text/plain": [
              "(6, 3000, 60, 7)"
            ]
          },
          "metadata": {},
          "execution_count": 12
        }
      ],
      "source": [
        "y_ppc = idata_ppc.posterior_predictive['obs'].to_numpy()\n",
        "y_ppc.shape"
      ]
    },
    {
      "cell_type": "markdown",
      "source": [
        "# Run Numpyro"
      ],
      "metadata": {
        "id": "TSy1m7iQDA9G"
      }
    },
    {
      "cell_type": "markdown",
      "metadata": {
        "id": "4R0ftm16Bz2z"
      },
      "source": [
        "## Define Model"
      ]
    },
    {
      "cell_type": "code",
      "execution_count": 13,
      "metadata": {
        "id": "MeSieAxABz20"
      },
      "outputs": [],
      "source": [
        "def model_1pl(y=None, num_cases=0, num_doctors=0):\n",
        "    with numpyro.plate('doctor', num_doctors):\n",
        "      theta = numpyro.sample('theta', dist.Normal(0, 2))\n",
        "\n",
        "    with numpyro.plate('case', num_cases, dim=-2):\n",
        "        beta = numpyro.sample('beta', dist.Normal(0, 2))\n",
        "        with numpyro.plate('doctor', num_doctors):\n",
        "            mu = theta - beta\n",
        "            numpyro.sample('obs', dist.Bernoulli(logits=mu), obs=y)"
      ]
    },
    {
      "cell_type": "code",
      "execution_count": 14,
      "metadata": {
        "id": "-mjaNS9ILw_R"
      },
      "outputs": [],
      "source": [
        "def model_2pl(y=None, num_cases=0, num_doctors=0):\n",
        "    with numpyro.plate('doctor', num_doctors):\n",
        "      theta = numpyro.sample('theta', dist.Normal(0, 2))\n",
        "\n",
        "    with numpyro.plate('case', num_cases, dim=-2):\n",
        "        beta = numpyro.sample('beta', dist.Normal(0, 2))\n",
        "        log_d = numpyro.sample('log_d', dist.Normal(0.5, 1))\n",
        "        with numpyro.plate('doctor', num_doctors):\n",
        "            mu = jnp.exp(log_d)*(theta - beta)\n",
        "            numpyro.sample('obs', dist.Bernoulli(logits=mu), obs=y)"
      ]
    },
    {
      "cell_type": "code",
      "execution_count": 15,
      "metadata": {
        "id": "vrqg2NPlLyq8"
      },
      "outputs": [],
      "source": [
        "model = model_1pl if MODEL == 0 else model_2pl"
      ]
    },
    {
      "cell_type": "code",
      "execution_count": 16,
      "metadata": {
        "id": "ZHtM6B61Bz21",
        "colab": {
          "base_uri": "https://localhost:8080/"
        },
        "outputId": "cf41cbb7-5e34-4348-ff03-1af12a831b99"
      },
      "outputs": [
        {
          "output_type": "stream",
          "name": "stderr",
          "text": [
            "<ipython-input-16-ec2a804151ff>:4: UserWarning: There are not enough devices to run parallel chains: expected 2 but got 1. Chains will be drawn sequentially. If you are running MCMC in CPU, consider using `numpyro.set_host_device_count(2)` at the beginning of your program. You can double-check how many devices are available in your system using `jax.local_device_count()`.\n",
            "  mcmc = numpyro.infer.MCMC(nuts, num_warmup=500, num_samples=3000, num_chains=num_chains, chain_method=chain_method)\n"
          ]
        }
      ],
      "source": [
        "nuts = numpyro.infer.NUTS(model)\n",
        "\n",
        "#mcmc = numpyro.infer.MCMC(nuts, num_warmup=500, num_samples=3000, num_chains=num_chains)\n",
        "mcmc = numpyro.infer.MCMC(nuts, num_warmup=500, num_samples=3000, num_chains=num_chains, chain_method=chain_method)\n"
      ]
    },
    {
      "cell_type": "markdown",
      "metadata": {
        "id": "fHQCdvlcBz21"
      },
      "source": [
        "## Measure Inference Time"
      ]
    },
    {
      "cell_type": "code",
      "execution_count": 17,
      "metadata": {
        "id": "37kkb2cVBz22"
      },
      "outputs": [],
      "source": [
        "key = jax.random.PRNGKey(0)\n",
        "\n",
        "factors = [1, 1, 2, 5, 10, 20, 50, 100, 200, 500, 1000] \n",
        "#factors = [1, 50, 20, 10, 5, 2, 1] \n",
        "\n",
        "num_doctors = y_ppc.shape[-1]"
      ]
    },
    {
      "cell_type": "code",
      "execution_count": 18,
      "metadata": {
        "id": "l54H0cxkBz22",
        "colab": {
          "base_uri": "https://localhost:8080/"
        },
        "outputId": "7d45f73d-6cea-4652-8173-c1f1218b5e2d"
      },
      "outputs": [
        {
          "output_type": "stream",
          "name": "stdout",
          "text": [
            "simulated data shape: (60, 7)\n"
          ]
        },
        {
          "output_type": "stream",
          "name": "stderr",
          "text": [
            "sample: 100%|██████████| 3500/3500 [00:23<00:00, 149.57it/s, 15 steps of size 4.31e-01. acc. prob=0.85]\n",
            "sample: 100%|██████████| 3500/3500 [00:26<00:00, 131.72it/s, 15 steps of size 3.78e-01. acc. prob=0.89]\n"
          ]
        },
        {
          "output_type": "stream",
          "name": "stdout",
          "text": [
            "simulated data shape: (60, 7)\n"
          ]
        },
        {
          "output_type": "stream",
          "name": "stderr",
          "text": [
            "sample: 100%|██████████| 3500/3500 [00:23<00:00, 150.25it/s, 15 steps of size 4.31e-01. acc. prob=0.85]\n",
            "sample: 100%|██████████| 3500/3500 [00:25<00:00, 136.87it/s, 15 steps of size 3.78e-01. acc. prob=0.89]\n"
          ]
        },
        {
          "output_type": "stream",
          "name": "stdout",
          "text": [
            "simulated data shape: (120, 7)\n"
          ]
        },
        {
          "output_type": "stream",
          "name": "stderr",
          "text": [
            "sample: 100%|██████████| 3500/3500 [00:30<00:00, 114.61it/s, 15 steps of size 3.60e-01. acc. prob=0.87]\n",
            "sample: 100%|██████████| 3500/3500 [00:27<00:00, 127.19it/s, 15 steps of size 3.76e-01. acc. prob=0.85]\n"
          ]
        },
        {
          "output_type": "stream",
          "name": "stdout",
          "text": [
            "simulated data shape: (300, 7)\n"
          ]
        },
        {
          "output_type": "stream",
          "name": "stderr",
          "text": [
            "sample: 100%|██████████| 3500/3500 [00:30<00:00, 114.90it/s, 15 steps of size 2.96e-01. acc. prob=0.86]\n",
            "sample: 100%|██████████| 3500/3500 [00:28<00:00, 124.77it/s, 15 steps of size 2.94e-01. acc. prob=0.86]\n"
          ]
        },
        {
          "output_type": "stream",
          "name": "stdout",
          "text": [
            "simulated data shape: (600, 7)\n"
          ]
        },
        {
          "output_type": "stream",
          "name": "stderr",
          "text": [
            "sample: 100%|██████████| 3500/3500 [00:32<00:00, 108.91it/s, 15 steps of size 2.59e-01. acc. prob=0.85]\n",
            "sample: 100%|██████████| 3500/3500 [00:30<00:00, 113.81it/s, 15 steps of size 2.35e-01. acc. prob=0.88]\n"
          ]
        },
        {
          "output_type": "stream",
          "name": "stdout",
          "text": [
            "simulated data shape: (1200, 7)\n"
          ]
        },
        {
          "output_type": "stream",
          "name": "stderr",
          "text": [
            "sample: 100%|██████████| 3500/3500 [00:34<00:00, 100.04it/s, 15 steps of size 2.45e-01. acc. prob=0.82]\n",
            "sample: 100%|██████████| 3500/3500 [00:32<00:00, 107.21it/s, 15 steps of size 2.32e-01. acc. prob=0.84]\n"
          ]
        },
        {
          "output_type": "stream",
          "name": "stdout",
          "text": [
            "simulated data shape: (3000, 7)\n"
          ]
        },
        {
          "output_type": "stream",
          "name": "stderr",
          "text": [
            "sample: 100%|██████████| 3500/3500 [00:59<00:00, 58.91it/s, 31 steps of size 1.90e-01. acc. prob=0.83]\n",
            "sample: 100%|██████████| 3500/3500 [00:57<00:00, 60.91it/s, 31 steps of size 1.74e-01. acc. prob=0.86]\n"
          ]
        },
        {
          "output_type": "stream",
          "name": "stdout",
          "text": [
            "simulated data shape: (6000, 7)\n"
          ]
        },
        {
          "output_type": "stream",
          "name": "stderr",
          "text": [
            "sample: 100%|██████████| 3500/3500 [01:01<00:00, 56.92it/s, 31 steps of size 1.56e-01. acc. prob=0.84]\n",
            "sample: 100%|██████████| 3500/3500 [00:57<00:00, 60.91it/s, 31 steps of size 1.60e-01. acc. prob=0.83]\n"
          ]
        },
        {
          "output_type": "stream",
          "name": "stdout",
          "text": [
            "simulated data shape: (12000, 7)\n"
          ]
        },
        {
          "output_type": "stream",
          "name": "stderr",
          "text": [
            "sample: 100%|██████████| 3500/3500 [01:08<00:00, 50.98it/s, 31 steps of size 1.31e-01. acc. prob=0.85]\n",
            "sample: 100%|██████████| 3500/3500 [01:05<00:00, 53.17it/s, 31 steps of size 1.37e-01. acc. prob=0.83]\n"
          ]
        },
        {
          "output_type": "stream",
          "name": "stdout",
          "text": [
            "simulated data shape: (30000, 7)\n"
          ]
        },
        {
          "output_type": "stream",
          "name": "stderr",
          "text": [
            "sample: 100%|██████████| 3500/3500 [01:59<00:00, 29.38it/s, 63 steps of size 9.67e-02. acc. prob=0.86]\n",
            "sample: 100%|██████████| 3500/3500 [01:56<00:00, 30.14it/s, 63 steps of size 9.96e-02. acc. prob=0.85]\n"
          ]
        },
        {
          "output_type": "stream",
          "name": "stdout",
          "text": [
            "simulated data shape: (60000, 7)\n"
          ]
        },
        {
          "output_type": "stream",
          "name": "stderr",
          "text": [
            "sample: 100%|██████████| 3500/3500 [02:27<00:00, 23.78it/s, 63 steps of size 9.12e-02. acc. prob=0.83]\n",
            "sample: 100%|██████████| 3500/3500 [02:22<00:00, 24.57it/s, 63 steps of size 9.62e-02. acc. prob=0.81]\n"
          ]
        }
      ],
      "source": [
        "lines = []\n",
        "\n",
        "for k, factor in enumerate(factors):\n",
        "    y_simulated = y_ppc[0, :factor, :, :].reshape(-1, num_doctors)\n",
        "    print(\"simulated data shape:\", y_simulated.shape)\n",
        "\n",
        "    num_cases = y_simulated.shape[0]\n",
        "    start_time = dt.datetime.now()\n",
        "\n",
        "    mcmc.run(key, y=y_simulated, num_cases=num_cases, num_doctors=num_doctors)\n",
        "\n",
        "    end_time = dt.datetime.now()\n",
        "    elapsed_time = (end_time - start_time).total_seconds()\n",
        "    lines.append(f'{num_cases},{start_time},{end_time},{elapsed_time}')\n",
        "\n",
        "    time.sleep(1) # sleep 1 sec"
      ]
    },
    {
      "cell_type": "markdown",
      "metadata": {
        "id": "R2h1YOxkBz23"
      },
      "source": [
        "## Export Data"
      ]
    },
    {
      "cell_type": "code",
      "execution_count": 19,
      "metadata": {
        "id": "x37_91NPBz23"
      },
      "outputs": [],
      "source": [
        "path = \"time_measured_numpyro_data%s_model%s_device%s.csv\" % (DATA, MODEL, DEVICE)\n",
        "\n",
        "header = ['num_cases,start_time,end_time,elapsed_time']\n",
        "\n",
        "with open(path, mode='w') as f:\n",
        "    f.write('\\n'.join(header + lines))"
      ]
    },
    {
      "cell_type": "code",
      "execution_count": 20,
      "metadata": {
        "id": "YNeKIQolMQrp",
        "colab": {
          "base_uri": "https://localhost:8080/",
          "height": 17
        },
        "outputId": "2650df27-0025-47cf-ea79-8e3fdf4d3a7e"
      },
      "outputs": [
        {
          "output_type": "display_data",
          "data": {
            "text/plain": [
              "<IPython.core.display.Javascript object>"
            ],
            "application/javascript": [
              "\n",
              "    async function download(id, filename, size) {\n",
              "      if (!google.colab.kernel.accessAllowed) {\n",
              "        return;\n",
              "      }\n",
              "      const div = document.createElement('div');\n",
              "      const label = document.createElement('label');\n",
              "      label.textContent = `Downloading \"${filename}\": `;\n",
              "      div.appendChild(label);\n",
              "      const progress = document.createElement('progress');\n",
              "      progress.max = size;\n",
              "      div.appendChild(progress);\n",
              "      document.body.appendChild(div);\n",
              "\n",
              "      const buffers = [];\n",
              "      let downloaded = 0;\n",
              "\n",
              "      const channel = await google.colab.kernel.comms.open(id);\n",
              "      // Send a message to notify the kernel that we're ready.\n",
              "      channel.send({})\n",
              "\n",
              "      for await (const message of channel.messages) {\n",
              "        // Send a message to notify the kernel that we're ready.\n",
              "        channel.send({})\n",
              "        if (message.buffers) {\n",
              "          for (const buffer of message.buffers) {\n",
              "            buffers.push(buffer);\n",
              "            downloaded += buffer.byteLength;\n",
              "            progress.value = downloaded;\n",
              "          }\n",
              "        }\n",
              "      }\n",
              "      const blob = new Blob(buffers, {type: 'application/binary'});\n",
              "      const a = document.createElement('a');\n",
              "      a.href = window.URL.createObjectURL(blob);\n",
              "      a.download = filename;\n",
              "      div.appendChild(a);\n",
              "      a.click();\n",
              "      div.remove();\n",
              "    }\n",
              "  "
            ]
          },
          "metadata": {}
        },
        {
          "output_type": "display_data",
          "data": {
            "text/plain": [
              "<IPython.core.display.Javascript object>"
            ],
            "application/javascript": [
              "download(\"download_c193b74d-e01b-49d8-aeb4-665260ae0d79\", \"time_measured_numpyro_data0_model0_device1.csv\", 802)"
            ]
          },
          "metadata": {}
        }
      ],
      "source": [
        "from google.colab import files\n",
        "\n",
        "files.download(path)"
      ]
    }
  ],
  "metadata": {
    "accelerator": "GPU",
    "colab": {
      "provenance": [],
      "toc_visible": true
    },
    "gpuClass": "standard",
    "kernelspec": {
      "display_name": "Python 3 (ipykernel)",
      "language": "python",
      "name": "python3"
    },
    "language_info": {
      "codemirror_mode": {
        "name": "ipython",
        "version": 3
      },
      "file_extension": ".py",
      "mimetype": "text/x-python",
      "name": "python",
      "nbconvert_exporter": "python",
      "pygments_lexer": "ipython3",
      "version": "3.10.6 (main, Nov 14 2022, 16:10:14) [GCC 11.3.0]"
    },
    "vscode": {
      "interpreter": {
        "hash": "02363a0ddda6fe4c9bb621045380d029eaefc98695955e856c4bc129a6dba5a1"
      }
    }
  },
  "nbformat": 4,
  "nbformat_minor": 0
}